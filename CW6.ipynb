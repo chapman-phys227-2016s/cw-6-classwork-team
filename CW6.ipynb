{
 "cells": [
  {
   "cell_type": "code",
   "execution_count": 2,
   "metadata": {
    "collapsed": false
   },
   "outputs": [],
   "source": [
    "import numpy as np\n",
    "import sympy as sp\n",
    "import pandas as pd\n",
    "import matplotlib.pyplot as plt"
   ]
  },
  {
   "cell_type": "markdown",
   "metadata": {},
   "source": [
    "# Classwork 6\n",
    "### Michael Seaman, Taylor Patti, Austin Ayers, Chinmai Raman, Andrew Malfavon\n",
    "#### 3/10/16\n",
    "\n",
    "Euler's method is an algorithm that can be used to approximate an ODE that otherwise can't be solved.\n"
   ]
  }
 ],
 "metadata": {
  "kernelspec": {
   "display_name": "Python 2 (SageMath)",
   "language": "python",
   "name": "python2"
  },
  "language_info": {
   "codemirror_mode": {
    "name": "ipython",
    "version": 2
   },
   "file_extension": ".py",
   "mimetype": "text/x-python",
   "name": "python",
   "nbconvert_exporter": "python",
   "pygments_lexer": "ipython2",
   "version": "2.7.10"
  },
  "name": "CW6.ipynb"
 },
 "nbformat": 4,
 "nbformat_minor": 0
}
